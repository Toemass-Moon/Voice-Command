{
 "cells": [
  {
   "cell_type": "code",
   "execution_count": 1,
   "id": "7c3c7e59",
   "metadata": {},
   "outputs": [],
   "source": [
    "import speech_recognition as sr\n",
    "import pyautogui as pag"
   ]
  },
  {
   "cell_type": "code",
   "execution_count": 120,
   "id": "33d86df9",
   "metadata": {},
   "outputs": [
    {
     "name": "stdout",
     "output_type": "stream",
     "text": [
      "Talk Now\n",
      "You should have said: computer\n"
     ]
    }
   ],
   "source": [
    "recog = sr.Recognizer()\n",
    "with sr.Microphone() as source:\n",
    "    print('Talk Now')\n",
    "    audio = recog.listen(source)\n",
    "    \n",
    "    try:\n",
    "        text = recog.recognize_google(audio)\n",
    "        print(f'You should have said: {text}')\n",
    "    except:\n",
    "        print('Nothing was recognized')"
   ]
  },
  {
   "cell_type": "markdown",
   "id": "0dc954ed",
   "metadata": {},
   "source": [
    "**Postions for screen 1**  \n",
    "* **close browser:** x=1899, y=15  \n",
    "* **Minimize:** x=1806, y=13  \n",
    "  \n",
    "**Positions for screen 2**  \n",
    "* **close browser:** x=3816, y=11\n",
    "* **Minimize:** 3724, y=12"
   ]
  },
  {
   "cell_type": "markdown",
   "id": "a1668633",
   "metadata": {},
   "source": [
    "# Figuring out how to move the mouse to where we want"
   ]
  },
  {
   "cell_type": "markdown",
   "id": "3100dcad",
   "metadata": {},
   "source": [
    "**Making a new tab**  \n",
    "I know I could just make the computer click `ctrl + t` but this extra challenge is making things a bit more fun"
   ]
  },
  {
   "cell_type": "code",
   "execution_count": 89,
   "id": "55f9931c",
   "metadata": {},
   "outputs": [
    {
     "name": "stdout",
     "output_type": "stream",
     "text": [
      "Box(left=1175, top=0, width=69, height=34)\n",
      "None\n",
      "None\n"
     ]
    }
   ],
   "source": [
    "new_tab_1 = pag.locateOnScreen('./notebook_imgs/new_tab.png')\n",
    "new_tab_2 = pag.locateOnScreen('./notebook_imgs/new_tab_2.png')\n",
    "new_tab_3 = pag.locateOnScreen('./notebook_imgs/new_tab_other_window.png')\n",
    "\n",
    "try:\n",
    "    x, y, _, _ = new_tab_1\n",
    "except:\n",
    "    try:\n",
    "        x, y, _, _ = new_tab_2\n",
    "    except:\n",
    "        x, y, _, _ = new_tab_3\n",
    "\n",
    "print(new_tab_1)\n",
    "print(new_tab_2)\n",
    "print(new_tab_3)\n",
    "\n",
    "pag.moveTo(x + 50, y + 16)"
   ]
  },
  {
   "cell_type": "markdown",
   "id": "e65ae52e",
   "metadata": {},
   "source": [
    "1. For a `New Tab`, we add `50 to X` & `16 to y`"
   ]
  },
  {
   "cell_type": "markdown",
   "id": "9826e3a9",
   "metadata": {},
   "source": [
    "**Minimizing**"
   ]
  },
  {
   "cell_type": "code",
   "execution_count": 78,
   "id": "40d62049",
   "metadata": {},
   "outputs": [
    {
     "name": "stdout",
     "output_type": "stream",
     "text": [
      "Box(left=1792, top=6, width=26, height=17)\n"
     ]
    }
   ],
   "source": [
    "minimize_1 = pag.locateOnScreen('./notebook_imgs/minimize.png')\n",
    "minimize_2 = pag.locateOnScreen('./notebook_imgs/minimize_other_window.png')\n",
    "\n",
    "try:\n",
    "    x, y, _, _ = minimize_1\n",
    "except:\n",
    "    x, y, _, _ = minimize_2\n",
    "\n",
    "print(minimize)\n",
    "pag.moveTo(x + 12, y + 7)"
   ]
  },
  {
   "cell_type": "markdown",
   "id": "91e756f3",
   "metadata": {},
   "source": [
    "> So to minimize we will add `12 to X` & `7 to Y`"
   ]
  },
  {
   "cell_type": "markdown",
   "id": "e64d8d75",
   "metadata": {},
   "source": [
    "**Shrinking Window**"
   ]
  },
  {
   "cell_type": "code",
   "execution_count": 79,
   "id": "c89f93e3",
   "metadata": {},
   "outputs": [
    {
     "name": "stdout",
     "output_type": "stream",
     "text": [
      "Box(left=1838, top=6, width=24, height=20)\n"
     ]
    }
   ],
   "source": [
    "shrink_1 = pag.locateOnScreen('./notebook_imgs/shrink_window.png')\n",
    "shrink_2 = pag.locateOnScreen('./notebook_imgs/shrink_other_window.png')\n",
    "\n",
    "try:\n",
    "    x, y, _, _ = shrink_1\n",
    "except:\n",
    "    x, y, _, _ = shrink_2\n",
    "    \n",
    "print(shrink_1)\n",
    "print(shrink_2)\n",
    "\n",
    "pag.moveTo(x + 12, y + 7)"
   ]
  },
  {
   "cell_type": "markdown",
   "id": "a8d387b7",
   "metadata": {},
   "source": [
    "> So to shrink we will add `12 to X` & `7 to Y`"
   ]
  },
  {
   "cell_type": "markdown",
   "id": "937a6227",
   "metadata": {},
   "source": [
    "**Full screen Window**"
   ]
  },
  {
   "cell_type": "code",
   "execution_count": 81,
   "id": "8b6c5454",
   "metadata": {},
   "outputs": [
    {
     "name": "stdout",
     "output_type": "stream",
     "text": [
      "Box(left=1182, top=262, width=17, height=16)\n"
     ]
    }
   ],
   "source": [
    "fs_1 = pag.locateOnScreen('./notebook_imgs/full_screen_window.png')\n",
    "fs_2 = pag.locateOnScreen('./notebook_imgs/full_screen_other_window.png')\n",
    "try: \n",
    "    x, y, _, _ = fs_1\n",
    "except:\n",
    "    x, y, _, _ = fs_2\n",
    "\n",
    "print(fs_1)\n",
    "print(fs_2)\n",
    "\n",
    "pag.moveTo(x + 8, y + 7)"
   ]
  },
  {
   "cell_type": "markdown",
   "id": "ba0815dc",
   "metadata": {},
   "source": [
    "> So to Full Screen we will add `8 to X` & `7 to Y`"
   ]
  },
  {
   "cell_type": "markdown",
   "id": "336529fb",
   "metadata": {},
   "source": [
    "**Closing Browser Window**"
   ]
  },
  {
   "cell_type": "code",
   "execution_count": 112,
   "id": "0ee2083e",
   "metadata": {},
   "outputs": [
    {
     "name": "stdout",
     "output_type": "stream",
     "text": [
      "None\n",
      "Box(left=1890, top=7, width=13, height=14)\n"
     ]
    }
   ],
   "source": [
    "close_1 = pag.locateOnScreen('./notebook_imgs/close_window.png')\n",
    "close_2 = pag.locateOnScreen('./notebook_imgs/close_other_window.png')\n",
    "\n",
    "try:\n",
    "    x, y, _, _ = close_1 \n",
    "except: \n",
    "    x, y, _, _ = close_2\n",
    "    \n",
    "print(close_1)\n",
    "print(close_2)\n",
    "\n",
    "pag.moveTo(x + 8, y + 7)"
   ]
  },
  {
   "cell_type": "markdown",
   "id": "47f45b01",
   "metadata": {},
   "source": [
    "> So to close we will add `8 to X` & `7 to Y`"
   ]
  },
  {
   "cell_type": "markdown",
   "id": "55f2b7b6",
   "metadata": {},
   "source": [
    "**Going to the search bar**"
   ]
  },
  {
   "cell_type": "code",
   "execution_count": 113,
   "id": "4b0c7b54",
   "metadata": {},
   "outputs": [
    {
     "name": "stdout",
     "output_type": "stream",
     "text": [
      "Box(left=468, top=36, width=79, height=39)\n"
     ]
    }
   ],
   "source": [
    "search = pag.locateOnScreen('./notebook_imgs/search_bar.png')\n",
    "x, y, _, _ = search\n",
    "print(search)\n",
    "pag.moveTo(x + 15, y + 15)"
   ]
  },
  {
   "cell_type": "markdown",
   "id": "159cea66",
   "metadata": {},
   "source": [
    "> So to go to the search bar we will add `8 to X` & `7 to Y`"
   ]
  },
  {
   "cell_type": "markdown",
   "id": "b434eaca",
   "metadata": {},
   "source": [
    "## Trying to Open a new tab then go to YouTube"
   ]
  },
  {
   "cell_type": "code",
   "execution_count": 95,
   "id": "ab47c0bb",
   "metadata": {},
   "outputs": [],
   "source": [
    "# get the original mouse position to move the mouse back to where it was when we were done\n",
    "og_x, og_y = pag.position()\n",
    "\n",
    "new_tab_1 = pag.locateOnScreen('./notebook_imgs/new_tab.png')\n",
    "new_tab_2 = pag.locateOnScreen('./notebook_imgs/new_tab_2.png')\n",
    "new_tab_3 = pag.locateOnScreen('./notebook_imgs/new_tab_other_window.png')\n",
    "\n",
    "try:\n",
    "    x, y, _, _ = new_tab_1\n",
    "except:\n",
    "    try:\n",
    "        x, y, _, _ = new_tab_2\n",
    "    except:\n",
    "        x, y, _, _ = new_tab_3\n",
    "    \n",
    "pag.moveTo(x + 50, y + 16)\n",
    "pag.click()\n",
    "pag.write('youtube.com')\n",
    "pag.press('enter')\n",
    "pag.moveTo(og_x, og_y)"
   ]
  },
  {
   "cell_type": "markdown",
   "id": "3700e862",
   "metadata": {},
   "source": [
    "> Aye, LETS GOOOOOO!!!"
   ]
  },
  {
   "cell_type": "markdown",
   "id": "afa1996a",
   "metadata": {},
   "source": [
    "# Putting everything together using speech this time"
   ]
  },
  {
   "cell_type": "code",
   "execution_count": 123,
   "id": "006e5f7a",
   "metadata": {},
   "outputs": [
    {
     "name": "stdout",
     "output_type": "stream",
     "text": [
      "Talk Now\n",
      "Nothing was recognized\n",
      "Talk Now\n",
      "You said: go to google.com\n"
     ]
    }
   ],
   "source": [
    "on = True\n",
    "\n",
    "while on:\n",
    "    recog = sr.Recognizer()\n",
    "    \n",
    "    with sr.Microphone() as source:\n",
    "        audio = recog.listen(source)\n",
    "\n",
    "        try:\n",
    "            text = recog.recognize_google(audio)\n",
    "        except:\n",
    "            pass \n",
    "    if text == 'turn off':\n",
    "        print('Turning off Voice Command')\n",
    "        on = False\n",
    "        break\n",
    "        \n",
    "    elif text == 'computer': \n",
    "        with sr.Microphone() as source:\n",
    "            print('Talk Now')\n",
    "            audio = recog.listen(source)\n",
    "\n",
    "            try:\n",
    "                text = recog.recognize_google(audio)\n",
    "                print(f'You said: {text}')\n",
    "            except:\n",
    "                print('Nothing was recognized')\n",
    "\n",
    "\n",
    "        if text.split()[0] == 'open':\n",
    "            og_x, og_y = pag.position()\n",
    "\n",
    "            new_tab_1 = pag.locateOnScreen('./notebook_imgs/new_tab.png')\n",
    "            new_tab_2 = pag.locateOnScreen('./notebook_imgs/new_tab_2.png')\n",
    "            new_tab_3 = pag.locateOnScreen('./notebook_imgs/new_tab_other_window.png')\n",
    "\n",
    "            try:\n",
    "                x, y, _, _ = new_tab_1\n",
    "            except:\n",
    "                try:\n",
    "                    x, y, _, _ = new_tab_2\n",
    "                except:\n",
    "                    x, y, _, _ = new_tab_3\n",
    "\n",
    "            pag.moveTo(x + 50, y + 16)\n",
    "            pag.click()\n",
    "            pag.write(text.split()[-1])\n",
    "            pag.press('enter')\n",
    "            pag.moveTo(og_x, og_y)\n",
    "\n",
    "        elif 'go to' in text:\n",
    "            search = pag.locateOnScreen('./notebook_imgs/search_bar.png')\n",
    "            x, y, _, _ = search\n",
    "\n",
    "            pag.moveTo(x + 50, y + 15)\n",
    "            pag.click()\n",
    "            pag.write(text.split()[-1])\n",
    "            pag.press('enter')\n",
    "            pag.moveTo(og_x, og_y)"
   ]
  },
  {
   "cell_type": "code",
   "execution_count": null,
   "id": "900aac73",
   "metadata": {},
   "outputs": [],
   "source": []
  },
  {
   "cell_type": "code",
   "execution_count": null,
   "id": "6c53b2d1",
   "metadata": {},
   "outputs": [],
   "source": []
  }
 ],
 "metadata": {
  "kernelspec": {
   "display_name": "Python 3 (ipykernel)",
   "language": "python",
   "name": "python3"
  },
  "language_info": {
   "codemirror_mode": {
    "name": "ipython",
    "version": 3
   },
   "file_extension": ".py",
   "mimetype": "text/x-python",
   "name": "python",
   "nbconvert_exporter": "python",
   "pygments_lexer": "ipython3",
   "version": "3.9.6"
  }
 },
 "nbformat": 4,
 "nbformat_minor": 5
}
